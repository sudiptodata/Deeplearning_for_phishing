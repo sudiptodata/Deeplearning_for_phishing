{
 "cells": [
  {
   "cell_type": "code",
   "execution_count": 1,
   "id": "48b1d80e",
   "metadata": {
    "_cell_guid": "b1076dfc-b9ad-4769-8c92-a6c4dae69d19",
    "_uuid": "8f2839f25d086af736a60e9eeb907d3b93b6e0e5",
    "execution": {
     "iopub.execute_input": "2024-05-20T05:42:09.170989Z",
     "iopub.status.busy": "2024-05-20T05:42:09.170637Z",
     "iopub.status.idle": "2024-05-20T05:42:09.994326Z",
     "shell.execute_reply": "2024-05-20T05:42:09.993294Z"
    },
    "papermill": {
     "duration": 0.835245,
     "end_time": "2024-05-20T05:42:09.996646",
     "exception": false,
     "start_time": "2024-05-20T05:42:09.161401",
     "status": "completed"
    },
    "tags": []
   },
   "outputs": [
    {
     "name": "stdout",
     "output_type": "stream",
     "text": [
      "/kaggle/input/phishing-dataset-for-machine-learning/Phishing_Legitimate_full.csv\n"
     ]
    }
   ],
   "source": [
    "# This Python 3 environment comes with many helpful analytics libraries installed\n",
    "# It is defined by the kaggle/python Docker image: https://github.com/kaggle/docker-python\n",
    "# For example, here's several helpful packages to load\n",
    "\n",
    "import numpy as np # linear algebra\n",
    "import pandas as pd # data processing, CSV file I/O (e.g. pd.read_csv)\n",
    "\n",
    "# Input data files are available in the read-only \"../input/\" directory\n",
    "# For example, running this (by clicking run or pressing Shift+Enter) will list all files under the input directory\n",
    "\n",
    "import os\n",
    "for dirname, _, filenames in os.walk('/kaggle/input'):\n",
    "    for filename in filenames:\n",
    "        print(os.path.join(dirname, filename))\n",
    "\n",
    "# You can write up to 20GB to the current directory (/kaggle/working/) that gets preserved as output when you create a version using \"Save & Run All\" \n",
    "# You can also write temporary files to /kaggle/temp/, but they won't be saved outside of the current session"
   ]
  },
  {
   "cell_type": "markdown",
   "id": "e4e63875",
   "metadata": {
    "papermill": {
     "duration": 0.007205,
     "end_time": "2024-05-20T05:42:10.011606",
     "exception": false,
     "start_time": "2024-05-20T05:42:10.004401",
     "status": "completed"
    },
    "tags": []
   },
   "source": [
    "Anti-phishing refers to efforts to block phishing attacks. Phishing is a kind of cybercrime where attackers pose as known or trusted entities and contact individuals through email, text or telephone and ask them to share sensitive information. Typically, in a phishing email attack, and the message will suggest that there is a problem with an invoice, that there has been suspicious activity on an account, or that the user must login to verify an account or password. Users may also be prompted to enter credit card information or bank account details as well as other sensitive data. Once this information is collected, attackers may use it to access accounts, steal data and identities, and download malware onto the user’s computer. The objective of the this DL algoritm is to indentify thses harmful website."
   ]
  },
  {
   "cell_type": "code",
   "execution_count": 2,
   "id": "63d49f68",
   "metadata": {
    "execution": {
     "iopub.execute_input": "2024-05-20T05:42:10.027749Z",
     "iopub.status.busy": "2024-05-20T05:42:10.027321Z",
     "iopub.status.idle": "2024-05-20T05:42:10.135681Z",
     "shell.execute_reply": "2024-05-20T05:42:10.134739Z"
    },
    "papermill": {
     "duration": 0.118883,
     "end_time": "2024-05-20T05:42:10.137877",
     "exception": false,
     "start_time": "2024-05-20T05:42:10.018994",
     "status": "completed"
    },
    "tags": []
   },
   "outputs": [
    {
     "data": {
      "text/html": [
       "<div>\n",
       "<style scoped>\n",
       "    .dataframe tbody tr th:only-of-type {\n",
       "        vertical-align: middle;\n",
       "    }\n",
       "\n",
       "    .dataframe tbody tr th {\n",
       "        vertical-align: top;\n",
       "    }\n",
       "\n",
       "    .dataframe thead th {\n",
       "        text-align: right;\n",
       "    }\n",
       "</style>\n",
       "<table border=\"1\" class=\"dataframe\">\n",
       "  <thead>\n",
       "    <tr style=\"text-align: right;\">\n",
       "      <th></th>\n",
       "      <th>id</th>\n",
       "      <th>NumDots</th>\n",
       "      <th>SubdomainLevel</th>\n",
       "      <th>PathLevel</th>\n",
       "      <th>UrlLength</th>\n",
       "      <th>NumDash</th>\n",
       "      <th>NumDashInHostname</th>\n",
       "      <th>AtSymbol</th>\n",
       "      <th>TildeSymbol</th>\n",
       "      <th>NumUnderscore</th>\n",
       "      <th>...</th>\n",
       "      <th>IframeOrFrame</th>\n",
       "      <th>MissingTitle</th>\n",
       "      <th>ImagesOnlyInForm</th>\n",
       "      <th>SubdomainLevelRT</th>\n",
       "      <th>UrlLengthRT</th>\n",
       "      <th>PctExtResourceUrlsRT</th>\n",
       "      <th>AbnormalExtFormActionR</th>\n",
       "      <th>ExtMetaScriptLinkRT</th>\n",
       "      <th>PctExtNullSelfRedirectHyperlinksRT</th>\n",
       "      <th>CLASS_LABEL</th>\n",
       "    </tr>\n",
       "  </thead>\n",
       "  <tbody>\n",
       "    <tr>\n",
       "      <th>0</th>\n",
       "      <td>1</td>\n",
       "      <td>3</td>\n",
       "      <td>1</td>\n",
       "      <td>5</td>\n",
       "      <td>72</td>\n",
       "      <td>0</td>\n",
       "      <td>0</td>\n",
       "      <td>0</td>\n",
       "      <td>0</td>\n",
       "      <td>0</td>\n",
       "      <td>...</td>\n",
       "      <td>0</td>\n",
       "      <td>0</td>\n",
       "      <td>1</td>\n",
       "      <td>1</td>\n",
       "      <td>0</td>\n",
       "      <td>1</td>\n",
       "      <td>1</td>\n",
       "      <td>-1</td>\n",
       "      <td>1</td>\n",
       "      <td>1</td>\n",
       "    </tr>\n",
       "    <tr>\n",
       "      <th>1</th>\n",
       "      <td>2</td>\n",
       "      <td>3</td>\n",
       "      <td>1</td>\n",
       "      <td>3</td>\n",
       "      <td>144</td>\n",
       "      <td>0</td>\n",
       "      <td>0</td>\n",
       "      <td>0</td>\n",
       "      <td>0</td>\n",
       "      <td>2</td>\n",
       "      <td>...</td>\n",
       "      <td>0</td>\n",
       "      <td>0</td>\n",
       "      <td>0</td>\n",
       "      <td>1</td>\n",
       "      <td>-1</td>\n",
       "      <td>1</td>\n",
       "      <td>1</td>\n",
       "      <td>1</td>\n",
       "      <td>1</td>\n",
       "      <td>1</td>\n",
       "    </tr>\n",
       "    <tr>\n",
       "      <th>2</th>\n",
       "      <td>3</td>\n",
       "      <td>3</td>\n",
       "      <td>1</td>\n",
       "      <td>2</td>\n",
       "      <td>58</td>\n",
       "      <td>0</td>\n",
       "      <td>0</td>\n",
       "      <td>0</td>\n",
       "      <td>0</td>\n",
       "      <td>0</td>\n",
       "      <td>...</td>\n",
       "      <td>0</td>\n",
       "      <td>0</td>\n",
       "      <td>0</td>\n",
       "      <td>1</td>\n",
       "      <td>0</td>\n",
       "      <td>-1</td>\n",
       "      <td>1</td>\n",
       "      <td>-1</td>\n",
       "      <td>0</td>\n",
       "      <td>1</td>\n",
       "    </tr>\n",
       "    <tr>\n",
       "      <th>3</th>\n",
       "      <td>4</td>\n",
       "      <td>3</td>\n",
       "      <td>1</td>\n",
       "      <td>6</td>\n",
       "      <td>79</td>\n",
       "      <td>1</td>\n",
       "      <td>0</td>\n",
       "      <td>0</td>\n",
       "      <td>0</td>\n",
       "      <td>0</td>\n",
       "      <td>...</td>\n",
       "      <td>0</td>\n",
       "      <td>0</td>\n",
       "      <td>0</td>\n",
       "      <td>1</td>\n",
       "      <td>-1</td>\n",
       "      <td>1</td>\n",
       "      <td>1</td>\n",
       "      <td>1</td>\n",
       "      <td>-1</td>\n",
       "      <td>1</td>\n",
       "    </tr>\n",
       "    <tr>\n",
       "      <th>4</th>\n",
       "      <td>5</td>\n",
       "      <td>3</td>\n",
       "      <td>0</td>\n",
       "      <td>4</td>\n",
       "      <td>46</td>\n",
       "      <td>0</td>\n",
       "      <td>0</td>\n",
       "      <td>0</td>\n",
       "      <td>0</td>\n",
       "      <td>0</td>\n",
       "      <td>...</td>\n",
       "      <td>1</td>\n",
       "      <td>0</td>\n",
       "      <td>0</td>\n",
       "      <td>1</td>\n",
       "      <td>1</td>\n",
       "      <td>-1</td>\n",
       "      <td>0</td>\n",
       "      <td>-1</td>\n",
       "      <td>-1</td>\n",
       "      <td>1</td>\n",
       "    </tr>\n",
       "  </tbody>\n",
       "</table>\n",
       "<p>5 rows × 50 columns</p>\n",
       "</div>"
      ],
      "text/plain": [
       "   id  NumDots  SubdomainLevel  PathLevel  UrlLength  NumDash  \\\n",
       "0   1        3               1          5         72        0   \n",
       "1   2        3               1          3        144        0   \n",
       "2   3        3               1          2         58        0   \n",
       "3   4        3               1          6         79        1   \n",
       "4   5        3               0          4         46        0   \n",
       "\n",
       "   NumDashInHostname  AtSymbol  TildeSymbol  NumUnderscore  ...  \\\n",
       "0                  0         0            0              0  ...   \n",
       "1                  0         0            0              2  ...   \n",
       "2                  0         0            0              0  ...   \n",
       "3                  0         0            0              0  ...   \n",
       "4                  0         0            0              0  ...   \n",
       "\n",
       "   IframeOrFrame  MissingTitle  ImagesOnlyInForm  SubdomainLevelRT  \\\n",
       "0              0             0                 1                 1   \n",
       "1              0             0                 0                 1   \n",
       "2              0             0                 0                 1   \n",
       "3              0             0                 0                 1   \n",
       "4              1             0                 0                 1   \n",
       "\n",
       "   UrlLengthRT  PctExtResourceUrlsRT  AbnormalExtFormActionR  \\\n",
       "0            0                     1                       1   \n",
       "1           -1                     1                       1   \n",
       "2            0                    -1                       1   \n",
       "3           -1                     1                       1   \n",
       "4            1                    -1                       0   \n",
       "\n",
       "   ExtMetaScriptLinkRT  PctExtNullSelfRedirectHyperlinksRT  CLASS_LABEL  \n",
       "0                   -1                                   1            1  \n",
       "1                    1                                   1            1  \n",
       "2                   -1                                   0            1  \n",
       "3                    1                                  -1            1  \n",
       "4                   -1                                  -1            1  \n",
       "\n",
       "[5 rows x 50 columns]"
      ]
     },
     "execution_count": 2,
     "metadata": {},
     "output_type": "execute_result"
    }
   ],
   "source": [
    "# Loading Dataset\n",
    "data = pd.read_csv(r\"/kaggle/input/phishing-dataset-for-machine-learning/Phishing_Legitimate_full.csv\")\n",
    "data.head()"
   ]
  },
  {
   "cell_type": "code",
   "execution_count": 3,
   "id": "ef6b52dd",
   "metadata": {
    "execution": {
     "iopub.execute_input": "2024-05-20T05:42:10.155891Z",
     "iopub.status.busy": "2024-05-20T05:42:10.155153Z",
     "iopub.status.idle": "2024-05-20T05:42:10.160117Z",
     "shell.execute_reply": "2024-05-20T05:42:10.159100Z"
    },
    "papermill": {
     "duration": 0.015772,
     "end_time": "2024-05-20T05:42:10.162235",
     "exception": false,
     "start_time": "2024-05-20T05:42:10.146463",
     "status": "completed"
    },
    "tags": []
   },
   "outputs": [
    {
     "name": "stdout",
     "output_type": "stream",
     "text": [
      "The shape of dataset we are using (10000, 50)\n"
     ]
    }
   ],
   "source": [
    "print(f\"The shape of dataset we are using {data.shape}\")"
   ]
  },
  {
   "cell_type": "code",
   "execution_count": 4,
   "id": "4983f5a8",
   "metadata": {
    "execution": {
     "iopub.execute_input": "2024-05-20T05:42:10.178906Z",
     "iopub.status.busy": "2024-05-20T05:42:10.178609Z",
     "iopub.status.idle": "2024-05-20T05:42:10.187582Z",
     "shell.execute_reply": "2024-05-20T05:42:10.186652Z"
    },
    "papermill": {
     "duration": 0.019498,
     "end_time": "2024-05-20T05:42:10.189533",
     "exception": false,
     "start_time": "2024-05-20T05:42:10.170035",
     "status": "completed"
    },
    "tags": []
   },
   "outputs": [
    {
     "name": "stdout",
     "output_type": "stream",
     "text": [
      "The total number of variable in the target columns: 2\n"
     ]
    }
   ],
   "source": [
    "print(f\"The total number of variable in the target columns: {data.CLASS_LABEL.nunique()}\")"
   ]
  },
  {
   "cell_type": "code",
   "execution_count": 5,
   "id": "aed77527",
   "metadata": {
    "execution": {
     "iopub.execute_input": "2024-05-20T05:42:10.206115Z",
     "iopub.status.busy": "2024-05-20T05:42:10.205821Z",
     "iopub.status.idle": "2024-05-20T05:42:10.214955Z",
     "shell.execute_reply": "2024-05-20T05:42:10.214064Z"
    },
    "papermill": {
     "duration": 0.019465,
     "end_time": "2024-05-20T05:42:10.216852",
     "exception": false,
     "start_time": "2024-05-20T05:42:10.197387",
     "status": "completed"
    },
    "tags": []
   },
   "outputs": [
    {
     "data": {
      "text/plain": [
       "CLASS_LABEL\n",
       "1    5000\n",
       "0    5000\n",
       "Name: count, dtype: int64"
      ]
     },
     "execution_count": 5,
     "metadata": {},
     "output_type": "execute_result"
    }
   ],
   "source": [
    "data[\"CLASS_LABEL\"].value_counts()"
   ]
  },
  {
   "cell_type": "code",
   "execution_count": 6,
   "id": "b21950c7",
   "metadata": {
    "execution": {
     "iopub.execute_input": "2024-05-20T05:42:10.234446Z",
     "iopub.status.busy": "2024-05-20T05:42:10.233765Z",
     "iopub.status.idle": "2024-05-20T05:42:10.240441Z",
     "shell.execute_reply": "2024-05-20T05:42:10.239713Z"
    },
    "papermill": {
     "duration": 0.017716,
     "end_time": "2024-05-20T05:42:10.242773",
     "exception": false,
     "start_time": "2024-05-20T05:42:10.225057",
     "status": "completed"
    },
    "tags": []
   },
   "outputs": [],
   "source": [
    "data = data.drop([\"id\"], axis = 1)"
   ]
  },
  {
   "cell_type": "code",
   "execution_count": 7,
   "id": "e2b6a2f2",
   "metadata": {
    "execution": {
     "iopub.execute_input": "2024-05-20T05:42:10.259796Z",
     "iopub.status.busy": "2024-05-20T05:42:10.259542Z",
     "iopub.status.idle": "2024-05-20T05:42:10.267140Z",
     "shell.execute_reply": "2024-05-20T05:42:10.266292Z"
    },
    "papermill": {
     "duration": 0.018411,
     "end_time": "2024-05-20T05:42:10.269361",
     "exception": false,
     "start_time": "2024-05-20T05:42:10.250950",
     "status": "completed"
    },
    "tags": []
   },
   "outputs": [],
   "source": [
    "# creating x and y files\n",
    "x = data.iloc[:,:-1]\n",
    "y= data.iloc[:,-1]"
   ]
  },
  {
   "cell_type": "code",
   "execution_count": 8,
   "id": "34c5bdd3",
   "metadata": {
    "execution": {
     "iopub.execute_input": "2024-05-20T05:42:10.287161Z",
     "iopub.status.busy": "2024-05-20T05:42:10.286907Z",
     "iopub.status.idle": "2024-05-20T05:42:11.534764Z",
     "shell.execute_reply": "2024-05-20T05:42:11.533936Z"
    },
    "papermill": {
     "duration": 1.25915,
     "end_time": "2024-05-20T05:42:11.537331",
     "exception": false,
     "start_time": "2024-05-20T05:42:10.278181",
     "status": "completed"
    },
    "tags": []
   },
   "outputs": [],
   "source": [
    "#importing train test split\n",
    "from sklearn.model_selection import train_test_split\n",
    "x_train, x_test, y_train, y_test = train_test_split(x,y, test_size = 0.30, random_state = 33)"
   ]
  },
  {
   "cell_type": "code",
   "execution_count": 9,
   "id": "ac5b1d12",
   "metadata": {
    "execution": {
     "iopub.execute_input": "2024-05-20T05:42:11.555903Z",
     "iopub.status.busy": "2024-05-20T05:42:11.555223Z",
     "iopub.status.idle": "2024-05-20T05:42:11.560414Z",
     "shell.execute_reply": "2024-05-20T05:42:11.559440Z"
    },
    "papermill": {
     "duration": 0.017409,
     "end_time": "2024-05-20T05:42:11.563152",
     "exception": false,
     "start_time": "2024-05-20T05:42:11.545743",
     "status": "completed"
    },
    "tags": []
   },
   "outputs": [
    {
     "name": "stdout",
     "output_type": "stream",
     "text": [
      "Shape of x_train: (7000, 48)\n",
      "Shape of y_train: (7000,)\n",
      "Shape of x_test : (3000, 48)\n",
      "Shape of y_test : (3000,)\n"
     ]
    }
   ],
   "source": [
    "print(f\"Shape of x_train: {x_train.shape}\")\n",
    "print(f\"Shape of y_train: {y_train.shape}\")\n",
    "print(f\"Shape of x_test : {x_test.shape}\")\n",
    "print(f\"Shape of y_test : {y_test.shape}\")"
   ]
  },
  {
   "cell_type": "code",
   "execution_count": 10,
   "id": "c8d40d63",
   "metadata": {
    "execution": {
     "iopub.execute_input": "2024-05-20T05:42:11.580420Z",
     "iopub.status.busy": "2024-05-20T05:42:11.580146Z",
     "iopub.status.idle": "2024-05-20T05:42:11.584806Z",
     "shell.execute_reply": "2024-05-20T05:42:11.584036Z"
    },
    "papermill": {
     "duration": 0.015614,
     "end_time": "2024-05-20T05:42:11.586899",
     "exception": false,
     "start_time": "2024-05-20T05:42:11.571285",
     "status": "completed"
    },
    "tags": []
   },
   "outputs": [
    {
     "name": "stdout",
     "output_type": "stream",
     "text": [
      "x_train shape: (7000, 48)\n",
      "x_test shape: (3000, 48)\n"
     ]
    }
   ],
   "source": [
    "print(f\"x_train shape: {x_train.shape}\")\n",
    "print(f\"x_test shape: {x_test.shape}\")"
   ]
  },
  {
   "cell_type": "code",
   "execution_count": 11,
   "id": "d1b16467",
   "metadata": {
    "execution": {
     "iopub.execute_input": "2024-05-20T05:42:11.604950Z",
     "iopub.status.busy": "2024-05-20T05:42:11.604678Z",
     "iopub.status.idle": "2024-05-20T05:42:24.014161Z",
     "shell.execute_reply": "2024-05-20T05:42:24.013307Z"
    },
    "papermill": {
     "duration": 12.420952,
     "end_time": "2024-05-20T05:42:24.016571",
     "exception": false,
     "start_time": "2024-05-20T05:42:11.595619",
     "status": "completed"
    },
    "tags": []
   },
   "outputs": [
    {
     "name": "stderr",
     "output_type": "stream",
     "text": [
      "2024-05-20 05:42:13.656034: E external/local_xla/xla/stream_executor/cuda/cuda_dnn.cc:9261] Unable to register cuDNN factory: Attempting to register factory for plugin cuDNN when one has already been registered\n",
      "2024-05-20 05:42:13.656129: E external/local_xla/xla/stream_executor/cuda/cuda_fft.cc:607] Unable to register cuFFT factory: Attempting to register factory for plugin cuFFT when one has already been registered\n",
      "2024-05-20 05:42:13.814153: E external/local_xla/xla/stream_executor/cuda/cuda_blas.cc:1515] Unable to register cuBLAS factory: Attempting to register factory for plugin cuBLAS when one has already been registered\n"
     ]
    }
   ],
   "source": [
    "#importing deep learning modules\n",
    "from tensorflow.keras.models import Sequential\n",
    "from tensorflow.keras.layers import Input, Dense, Dropout\n",
    "from tensorflow.keras.utils import to_categorical\n",
    "from tensorflow.keras.optimizers import Adam"
   ]
  },
  {
   "cell_type": "code",
   "execution_count": 12,
   "id": "7e89b849",
   "metadata": {
    "execution": {
     "iopub.execute_input": "2024-05-20T05:42:24.034636Z",
     "iopub.status.busy": "2024-05-20T05:42:24.033769Z",
     "iopub.status.idle": "2024-05-20T05:42:24.039134Z",
     "shell.execute_reply": "2024-05-20T05:42:24.038365Z"
    },
    "papermill": {
     "duration": 0.015982,
     "end_time": "2024-05-20T05:42:24.041098",
     "exception": false,
     "start_time": "2024-05-20T05:42:24.025116",
     "status": "completed"
    },
    "tags": []
   },
   "outputs": [],
   "source": [
    "y_train_ohe = to_categorical(y_train)\n",
    "y_test_ohe = to_categorical(y_test)"
   ]
  },
  {
   "cell_type": "code",
   "execution_count": 13,
   "id": "41dbc25c",
   "metadata": {
    "execution": {
     "iopub.execute_input": "2024-05-20T05:42:24.059481Z",
     "iopub.status.busy": "2024-05-20T05:42:24.059208Z",
     "iopub.status.idle": "2024-05-20T05:42:24.064726Z",
     "shell.execute_reply": "2024-05-20T05:42:24.063870Z"
    },
    "papermill": {
     "duration": 0.016653,
     "end_time": "2024-05-20T05:42:24.066611",
     "exception": false,
     "start_time": "2024-05-20T05:42:24.049958",
     "status": "completed"
    },
    "tags": []
   },
   "outputs": [
    {
     "data": {
      "text/plain": [
       "(7000, 48)"
      ]
     },
     "execution_count": 13,
     "metadata": {},
     "output_type": "execute_result"
    }
   ],
   "source": [
    "input_shape = x_train.shape\n",
    "input_shape"
   ]
  },
  {
   "cell_type": "code",
   "execution_count": 14,
   "id": "c6d4ba3e",
   "metadata": {
    "execution": {
     "iopub.execute_input": "2024-05-20T05:42:24.085239Z",
     "iopub.status.busy": "2024-05-20T05:42:24.084975Z",
     "iopub.status.idle": "2024-05-20T05:42:24.967425Z",
     "shell.execute_reply": "2024-05-20T05:42:24.966667Z"
    },
    "papermill": {
     "duration": 0.89467,
     "end_time": "2024-05-20T05:42:24.969614",
     "exception": false,
     "start_time": "2024-05-20T05:42:24.074944",
     "status": "completed"
    },
    "tags": []
   },
   "outputs": [
    {
     "name": "stderr",
     "output_type": "stream",
     "text": [
      "/opt/conda/lib/python3.10/site-packages/keras/src/layers/core/dense.py:86: UserWarning: Do not pass an `input_shape`/`input_dim` argument to a layer. When using Sequential models, prefer using an `Input(shape)` object as the first layer in the model instead.\n",
      "  super().__init__(activity_regularizer=activity_regularizer, **kwargs)\n"
     ]
    }
   ],
   "source": [
    "# Create a new sequential model\n",
    "model = Sequential()\n",
    "\n",
    "# Add layers to the model\n",
    "model.add(Dense(100, activation='relu', input_shape=(48,)))  # Input shape should match the number of features\n",
    "model.add(Dense(2, activation='sigmoid'))  # Output layer\n"
   ]
  },
  {
   "cell_type": "code",
   "execution_count": 15,
   "id": "4af084ac",
   "metadata": {
    "execution": {
     "iopub.execute_input": "2024-05-20T05:42:24.988104Z",
     "iopub.status.busy": "2024-05-20T05:42:24.987755Z",
     "iopub.status.idle": "2024-05-20T05:42:25.000576Z",
     "shell.execute_reply": "2024-05-20T05:42:24.999882Z"
    },
    "papermill": {
     "duration": 0.024223,
     "end_time": "2024-05-20T05:42:25.002522",
     "exception": false,
     "start_time": "2024-05-20T05:42:24.978299",
     "status": "completed"
    },
    "tags": []
   },
   "outputs": [],
   "source": [
    "# Compile the model\n",
    "model.compile(loss='binary_crossentropy', optimizer='adam', metrics=['accuracy'])"
   ]
  },
  {
   "cell_type": "code",
   "execution_count": 16,
   "id": "434e5a85",
   "metadata": {
    "execution": {
     "iopub.execute_input": "2024-05-20T05:42:25.020160Z",
     "iopub.status.busy": "2024-05-20T05:42:25.019838Z",
     "iopub.status.idle": "2024-05-20T05:42:25.035732Z",
     "shell.execute_reply": "2024-05-20T05:42:25.034922Z"
    },
    "papermill": {
     "duration": 0.027025,
     "end_time": "2024-05-20T05:42:25.037707",
     "exception": false,
     "start_time": "2024-05-20T05:42:25.010682",
     "status": "completed"
    },
    "tags": []
   },
   "outputs": [
    {
     "data": {
      "text/html": [
       "<pre style=\"white-space:pre;overflow-x:auto;line-height:normal;font-family:Menlo,'DejaVu Sans Mono',consolas,'Courier New',monospace\"><span style=\"font-weight: bold\">Model: \"sequential\"</span>\n",
       "</pre>\n"
      ],
      "text/plain": [
       "\u001b[1mModel: \"sequential\"\u001b[0m\n"
      ]
     },
     "metadata": {},
     "output_type": "display_data"
    },
    {
     "data": {
      "text/html": [
       "<pre style=\"white-space:pre;overflow-x:auto;line-height:normal;font-family:Menlo,'DejaVu Sans Mono',consolas,'Courier New',monospace\">┏━━━━━━━━━━━━━━━━━━━━━━━━━━━━━━━━━┳━━━━━━━━━━━━━━━━━━━━━━━━┳━━━━━━━━━━━━━━━┓\n",
       "┃<span style=\"font-weight: bold\"> Layer (type)                    </span>┃<span style=\"font-weight: bold\"> Output Shape           </span>┃<span style=\"font-weight: bold\">       Param # </span>┃\n",
       "┡━━━━━━━━━━━━━━━━━━━━━━━━━━━━━━━━━╇━━━━━━━━━━━━━━━━━━━━━━━━╇━━━━━━━━━━━━━━━┩\n",
       "│ dense (<span style=\"color: #0087ff; text-decoration-color: #0087ff\">Dense</span>)                   │ (<span style=\"color: #00d7ff; text-decoration-color: #00d7ff\">None</span>, <span style=\"color: #00af00; text-decoration-color: #00af00\">100</span>)            │         <span style=\"color: #00af00; text-decoration-color: #00af00\">4,900</span> │\n",
       "├─────────────────────────────────┼────────────────────────┼───────────────┤\n",
       "│ dense_1 (<span style=\"color: #0087ff; text-decoration-color: #0087ff\">Dense</span>)                 │ (<span style=\"color: #00d7ff; text-decoration-color: #00d7ff\">None</span>, <span style=\"color: #00af00; text-decoration-color: #00af00\">2</span>)              │           <span style=\"color: #00af00; text-decoration-color: #00af00\">202</span> │\n",
       "└─────────────────────────────────┴────────────────────────┴───────────────┘\n",
       "</pre>\n"
      ],
      "text/plain": [
       "┏━━━━━━━━━━━━━━━━━━━━━━━━━━━━━━━━━┳━━━━━━━━━━━━━━━━━━━━━━━━┳━━━━━━━━━━━━━━━┓\n",
       "┃\u001b[1m \u001b[0m\u001b[1mLayer (type)                   \u001b[0m\u001b[1m \u001b[0m┃\u001b[1m \u001b[0m\u001b[1mOutput Shape          \u001b[0m\u001b[1m \u001b[0m┃\u001b[1m \u001b[0m\u001b[1m      Param #\u001b[0m\u001b[1m \u001b[0m┃\n",
       "┡━━━━━━━━━━━━━━━━━━━━━━━━━━━━━━━━━╇━━━━━━━━━━━━━━━━━━━━━━━━╇━━━━━━━━━━━━━━━┩\n",
       "│ dense (\u001b[38;5;33mDense\u001b[0m)                   │ (\u001b[38;5;45mNone\u001b[0m, \u001b[38;5;34m100\u001b[0m)            │         \u001b[38;5;34m4,900\u001b[0m │\n",
       "├─────────────────────────────────┼────────────────────────┼───────────────┤\n",
       "│ dense_1 (\u001b[38;5;33mDense\u001b[0m)                 │ (\u001b[38;5;45mNone\u001b[0m, \u001b[38;5;34m2\u001b[0m)              │           \u001b[38;5;34m202\u001b[0m │\n",
       "└─────────────────────────────────┴────────────────────────┴───────────────┘\n"
      ]
     },
     "metadata": {},
     "output_type": "display_data"
    },
    {
     "data": {
      "text/html": [
       "<pre style=\"white-space:pre;overflow-x:auto;line-height:normal;font-family:Menlo,'DejaVu Sans Mono',consolas,'Courier New',monospace\"><span style=\"font-weight: bold\"> Total params: </span><span style=\"color: #00af00; text-decoration-color: #00af00\">5,102</span> (19.93 KB)\n",
       "</pre>\n"
      ],
      "text/plain": [
       "\u001b[1m Total params: \u001b[0m\u001b[38;5;34m5,102\u001b[0m (19.93 KB)\n"
      ]
     },
     "metadata": {},
     "output_type": "display_data"
    },
    {
     "data": {
      "text/html": [
       "<pre style=\"white-space:pre;overflow-x:auto;line-height:normal;font-family:Menlo,'DejaVu Sans Mono',consolas,'Courier New',monospace\"><span style=\"font-weight: bold\"> Trainable params: </span><span style=\"color: #00af00; text-decoration-color: #00af00\">5,102</span> (19.93 KB)\n",
       "</pre>\n"
      ],
      "text/plain": [
       "\u001b[1m Trainable params: \u001b[0m\u001b[38;5;34m5,102\u001b[0m (19.93 KB)\n"
      ]
     },
     "metadata": {},
     "output_type": "display_data"
    },
    {
     "data": {
      "text/html": [
       "<pre style=\"white-space:pre;overflow-x:auto;line-height:normal;font-family:Menlo,'DejaVu Sans Mono',consolas,'Courier New',monospace\"><span style=\"font-weight: bold\"> Non-trainable params: </span><span style=\"color: #00af00; text-decoration-color: #00af00\">0</span> (0.00 B)\n",
       "</pre>\n"
      ],
      "text/plain": [
       "\u001b[1m Non-trainable params: \u001b[0m\u001b[38;5;34m0\u001b[0m (0.00 B)\n"
      ]
     },
     "metadata": {},
     "output_type": "display_data"
    }
   ],
   "source": [
    "model.summary()"
   ]
  },
  {
   "cell_type": "code",
   "execution_count": 17,
   "id": "93cf6651",
   "metadata": {
    "execution": {
     "iopub.execute_input": "2024-05-20T05:42:25.057454Z",
     "iopub.status.busy": "2024-05-20T05:42:25.056755Z",
     "iopub.status.idle": "2024-05-20T05:42:25.773682Z",
     "shell.execute_reply": "2024-05-20T05:42:25.772439Z"
    },
    "papermill": {
     "duration": 0.728582,
     "end_time": "2024-05-20T05:42:25.775391",
     "exception": true,
     "start_time": "2024-05-20T05:42:25.046809",
     "status": "failed"
    },
    "tags": []
   },
   "outputs": [
    {
     "ename": "NameError",
     "evalue": "name 'x_train_array' is not defined",
     "output_type": "error",
     "traceback": [
      "\u001b[0;31m---------------------------------------------------------------------------\u001b[0m",
      "\u001b[0;31mNameError\u001b[0m                                 Traceback (most recent call last)",
      "Cell \u001b[0;32mIn[17], line 4\u001b[0m\n\u001b[1;32m      2\u001b[0m n_e \u001b[38;5;241m=\u001b[39m \u001b[38;5;241m50\u001b[39m\n\u001b[1;32m      3\u001b[0m batch \u001b[38;5;241m=\u001b[39m \u001b[38;5;241m500\u001b[39m\n\u001b[0;32m----> 4\u001b[0m model\u001b[38;5;241m.\u001b[39mfit(x\u001b[38;5;241m=\u001b[39m\u001b[43mx_train_array\u001b[49m, y\u001b[38;5;241m=\u001b[39my_train_ohe, validation_data\u001b[38;5;241m=\u001b[39m(x_test_array, y_test_ohe), epochs\u001b[38;5;241m=\u001b[39mn_e, batch_size\u001b[38;5;241m=\u001b[39mbatch)\n",
      "\u001b[0;31mNameError\u001b[0m: name 'x_train_array' is not defined"
     ]
    }
   ],
   "source": [
    "\n",
    "# Train the model\n",
    "n_e = 50\n",
    "batch = 500\n",
    "model.fit(x=x_train_array, y=y_train_ohe, validation_data=(x_test_array, y_test_ohe), epochs=n_e, batch_size=batch)"
   ]
  },
  {
   "cell_type": "code",
   "execution_count": null,
   "id": "f3a333e7",
   "metadata": {
    "execution": {
     "iopub.execute_input": "2024-05-20T05:25:55.524244Z",
     "iopub.status.busy": "2024-05-20T05:25:55.523256Z",
     "iopub.status.idle": "2024-05-20T05:25:55.824173Z",
     "shell.execute_reply": "2024-05-20T05:25:55.822969Z",
     "shell.execute_reply.started": "2024-05-20T05:25:55.524200Z"
    },
    "papermill": {
     "duration": null,
     "end_time": null,
     "exception": null,
     "start_time": null,
     "status": "pending"
    },
    "tags": []
   },
   "outputs": [],
   "source": [
    "import matplotlib.pyplot as plt\n",
    "train_loss = model.history.history[\"loss\"]\n",
    "val_loss = model.history.history[\"val_loss\"]\n",
    "plt.plot(train_loss)\n",
    "plt.plot(val_loss)\n",
    "plt.xlabel(\"epoch\")\n",
    "plt.ylabel(\"loss\")\n",
    "plt.ylim(0,10)\n",
    "plt.legend([\"Train\", \"test\"])\n",
    "plt.grid()\n",
    "plt.show()"
   ]
  },
  {
   "cell_type": "code",
   "execution_count": null,
   "id": "3d036de6",
   "metadata": {
    "execution": {
     "iopub.execute_input": "2024-05-20T05:26:15.497044Z",
     "iopub.status.busy": "2024-05-20T05:26:15.496143Z",
     "iopub.status.idle": "2024-05-20T05:26:15.704464Z",
     "shell.execute_reply": "2024-05-20T05:26:15.703544Z",
     "shell.execute_reply.started": "2024-05-20T05:26:15.497009Z"
    },
    "papermill": {
     "duration": null,
     "end_time": null,
     "exception": null,
     "start_time": null,
     "status": "pending"
    },
    "tags": []
   },
   "outputs": [],
   "source": [
    "train_accuracy = model.history.history[\"accuracy\"]\n",
    "val_accuracy = model.history.history[\"val_accuracy\"]\n",
    "plt.plot(train_accuracy)\n",
    "plt.plot(val_accuracy)\n",
    "plt.xlabel(\"epoch\")\n",
    "plt.ylabel(\"Accuracy\")\n",
    "plt.legend([\"Train accuracy\", \"test accuracy\"])\n",
    "plt.grid()\n",
    "plt.show()"
   ]
  },
  {
   "cell_type": "code",
   "execution_count": null,
   "id": "e723ea3f",
   "metadata": {
    "execution": {
     "iopub.execute_input": "2024-05-20T05:27:05.345134Z",
     "iopub.status.busy": "2024-05-20T05:27:05.344137Z",
     "iopub.status.idle": "2024-05-20T05:27:05.531837Z",
     "shell.execute_reply": "2024-05-20T05:27:05.531097Z",
     "shell.execute_reply.started": "2024-05-20T05:27:05.345097Z"
    },
    "papermill": {
     "duration": null,
     "end_time": null,
     "exception": null,
     "start_time": null,
     "status": "pending"
    },
    "tags": []
   },
   "outputs": [],
   "source": [
    "from sklearn.metrics import confusion_matrix, classification_report, accuracy_score\n",
    "import seaborn as sns"
   ]
  },
  {
   "cell_type": "code",
   "execution_count": null,
   "id": "04298163",
   "metadata": {
    "execution": {
     "iopub.execute_input": "2024-05-20T05:28:21.221738Z",
     "iopub.status.busy": "2024-05-20T05:28:21.220589Z",
     "iopub.status.idle": "2024-05-20T05:28:21.887756Z",
     "shell.execute_reply": "2024-05-20T05:28:21.886746Z",
     "shell.execute_reply.started": "2024-05-20T05:28:21.221699Z"
    },
    "papermill": {
     "duration": null,
     "end_time": null,
     "exception": null,
     "start_time": null,
     "status": "pending"
    },
    "tags": []
   },
   "outputs": [],
   "source": [
    "# Predict labels for the test data\n",
    "y_pred = model.predict(x_test)\n",
    "\n",
    "# Convert the predicted probabilities to class labels\n",
    "y_pred_labels = np.argmax(y_pred, axis=1)\n",
    "\n",
    "# Convert one-hot encoded true labels to class labels\n",
    "y_true_labels = np.argmax(y_test_ohe, axis=1)\n",
    "\n",
    "# Create the confusion matrix\n",
    "conf_matrix = confusion_matrix(y_true_labels, y_pred_labels)\n",
    "\n",
    "# Print or visualize the confusion matrix\n",
    "print(\"Confusion Matrix:\")\n",
    "print(conf_matrix)"
   ]
  },
  {
   "cell_type": "code",
   "execution_count": null,
   "id": "6dafbe13",
   "metadata": {
    "execution": {
     "iopub.execute_input": "2024-05-20T05:28:46.853756Z",
     "iopub.status.busy": "2024-05-20T05:28:46.853395Z",
     "iopub.status.idle": "2024-05-20T05:28:46.860642Z",
     "shell.execute_reply": "2024-05-20T05:28:46.859622Z",
     "shell.execute_reply.started": "2024-05-20T05:28:46.853727Z"
    },
    "papermill": {
     "duration": null,
     "end_time": null,
     "exception": null,
     "start_time": null,
     "status": "pending"
    },
    "tags": []
   },
   "outputs": [],
   "source": [
    "print(f\"The accuracy score of the model {accuracy_score(y_true_labels, y_pred_labels)}\")"
   ]
  },
  {
   "cell_type": "code",
   "execution_count": null,
   "id": "33ba81fa",
   "metadata": {
    "execution": {
     "iopub.execute_input": "2024-05-20T05:29:14.711100Z",
     "iopub.status.busy": "2024-05-20T05:29:14.710734Z",
     "iopub.status.idle": "2024-05-20T05:29:14.729178Z",
     "shell.execute_reply": "2024-05-20T05:29:14.728080Z",
     "shell.execute_reply.started": "2024-05-20T05:29:14.711074Z"
    },
    "papermill": {
     "duration": null,
     "end_time": null,
     "exception": null,
     "start_time": null,
     "status": "pending"
    },
    "tags": []
   },
   "outputs": [],
   "source": [
    "print(classification_report(y_true_labels, y_pred_labels))"
   ]
  },
  {
   "cell_type": "code",
   "execution_count": null,
   "id": "31e9e19c",
   "metadata": {
    "papermill": {
     "duration": null,
     "end_time": null,
     "exception": null,
     "start_time": null,
     "status": "pending"
    },
    "tags": []
   },
   "outputs": [],
   "source": []
  }
 ],
 "metadata": {
  "kaggle": {
   "accelerator": "nvidiaTeslaT4",
   "dataSources": [
    {
     "datasetId": 1373456,
     "sourceId": 2280177,
     "sourceType": "datasetVersion"
    }
   ],
   "dockerImageVersionId": 30699,
   "isGpuEnabled": true,
   "isInternetEnabled": true,
   "language": "python",
   "sourceType": "notebook"
  },
  "kernelspec": {
   "display_name": "Python 3",
   "language": "python",
   "name": "python3"
  },
  "language_info": {
   "codemirror_mode": {
    "name": "ipython",
    "version": 3
   },
   "file_extension": ".py",
   "mimetype": "text/x-python",
   "name": "python",
   "nbconvert_exporter": "python",
   "pygments_lexer": "ipython3",
   "version": "3.10.13"
  },
  "papermill": {
   "default_parameters": {},
   "duration": 22.333071,
   "end_time": "2024-05-20T05:42:28.502781",
   "environment_variables": {},
   "exception": true,
   "input_path": "__notebook__.ipynb",
   "output_path": "__notebook__.ipynb",
   "parameters": {},
   "start_time": "2024-05-20T05:42:06.169710",
   "version": "2.5.0"
  }
 },
 "nbformat": 4,
 "nbformat_minor": 5
}
